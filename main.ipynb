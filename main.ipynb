{
 "cells": [
  {
   "cell_type": "code",
   "execution_count": 1,
   "metadata": {},
   "outputs": [
    {
     "name": "stdout",
     "output_type": "stream",
     "text": [
      "pygame 2.5.2 (SDL 2.28.3, Python 3.7.12)\n",
      "Hello from the pygame community. https://www.pygame.org/contribute.html\n"
     ]
    }
   ],
   "source": [
    "import carla\n",
    "import random\n",
    "\n",
    "import pygame\n",
    "from pygame.locals import K_ESCAPE\n",
    "from pygame.locals import K_SPACE\n",
    "from pygame.locals import K_a, K_d, K_s, K_w, K_c\n",
    "import numpy as np\n",
    "import json\n",
    "\n",
    "VIEW_WIDTH = 1920//2\n",
    "VIEW_HEIGHT = 1080//2\n",
    "VIEW_FOV = 120\n",
    "\n",
    "BB_COLOR = (248, 64, 24)"
   ]
  },
  {
   "cell_type": "code",
   "execution_count": 2,
   "metadata": {},
   "outputs": [],
   "source": [
    "client = carla.Client('127.0.0.1', 2000)\n",
    "client.set_timeout(2.0)\n",
    "world = client.get_world()\n",
    "camera_transform = carla.Transform(carla.Location(x=-5.5, z=2.8), carla.Rotation(pitch=-15))\n",
    "car_transform = random.choice(world.get_map().get_spawn_points())\n",
    "\n",
    "display = pygame.display.set_mode((VIEW_WIDTH, VIEW_HEIGHT), pygame.HWSURFACE | pygame.DOUBLEBUF)\n",
    "image = None\n",
    "depth_image = None\n",
    "capture = True"
   ]
  },
  {
   "cell_type": "code",
   "execution_count": 3,
   "metadata": {},
   "outputs": [
    {
     "data": {
      "text/plain": [
       "926"
      ]
     },
     "execution_count": 3,
     "metadata": {},
     "output_type": "execute_result"
    }
   ],
   "source": [
    "settings = world.get_settings()\n",
    "settings.synchronous_mode = True\n",
    "world.apply_settings(settings)"
   ]
  },
  {
   "cell_type": "code",
   "execution_count": 4,
   "metadata": {},
   "outputs": [],
   "source": [
    "car_bp = world.get_blueprint_library().filter('vehicle.*')[0]\n",
    "car = world.spawn_actor(car_bp, car_transform)"
   ]
  },
  {
   "cell_type": "code",
   "execution_count": 5,
   "metadata": {},
   "outputs": [],
   "source": [
    "camera_bp = world.get_blueprint_library().find('sensor.camera.rgb')\n",
    "camera_bp.set_attribute('image_size_x', str(VIEW_WIDTH))\n",
    "camera_bp.set_attribute('image_size_y', str(VIEW_HEIGHT))\n",
    "camera_bp.set_attribute('fov', str(VIEW_FOV))\n",
    "\n",
    "camera = world.spawn_actor(camera_bp, camera_transform, attach_to=car)"
   ]
  },
  {
   "cell_type": "code",
   "execution_count": 6,
   "metadata": {},
   "outputs": [],
   "source": [
    "depth_camera_bp = world.get_blueprint_library().find('sensor.camera.depth')\n",
    "depth_camera_bp.set_attribute('image_size_x', str(VIEW_WIDTH))\n",
    "depth_camera_bp.set_attribute('image_size_y', str(VIEW_HEIGHT))\n",
    "depth_camera_bp.set_attribute('fov', str(VIEW_FOV))\n",
    "\n",
    "depth_camera = world.spawn_actor(depth_camera_bp, camera_transform, attach_to=car)"
   ]
  },
  {
   "cell_type": "code",
   "execution_count": 7,
   "metadata": {},
   "outputs": [],
   "source": [
    "def set_image(img):\n",
    "    global capture\n",
    "    if capture:\n",
    "        global image\n",
    "        image = img\n",
    "        capture = False"
   ]
  },
  {
   "cell_type": "code",
   "execution_count": 8,
   "metadata": {},
   "outputs": [],
   "source": [
    "def set_depth_image(img):\n",
    "    global depth_image\n",
    "    depth_image = img"
   ]
  },
  {
   "cell_type": "code",
   "execution_count": 9,
   "metadata": {},
   "outputs": [],
   "source": [
    "camera.listen(lambda image: set_image(image))\n",
    "depth_camera.listen(lambda depth_image: set_depth_image(depth_image))"
   ]
  },
  {
   "cell_type": "code",
   "execution_count": 10,
   "metadata": {},
   "outputs": [],
   "source": [
    "def main():\n",
    "    pygame.init()\n",
    "    \n",
    "    pygame_clock = pygame.time.Clock()\n",
    "    \n",
    "    json_ = json.load(open(\"depth_images/no.json\", \"r\"))\n",
    "    running = True\n",
    "    while running:\n",
    "        world.tick()\n",
    "        global capture\n",
    "        capture = True\n",
    "        pygame_clock.tick_busy_loop(20)\n",
    "\n",
    "        if image is not None:\n",
    "            array = np.frombuffer(image.raw_data, dtype=np.dtype(\"uint8\"))\n",
    "            array = np.reshape(array, (image.height, image.width, 4))\n",
    "            array = array[:, :, :3]\n",
    "            array = array[:, :, ::-1]\n",
    "            surface = pygame.surfarray.make_surface(array.swapaxes(0, 1))\n",
    "            display.blit(surface, (0, 0))\n",
    "\n",
    "        keys = pygame.key.get_pressed()\n",
    "        if keys[K_ESCAPE]:\n",
    "            running = True\n",
    "            open(\"depth_images/no.json\", \"w\").write(json.dumps(json_))\n",
    "            pygame.quit()\n",
    "\n",
    "        control = car.get_control()\n",
    "        control.throttle = 0\n",
    "        if keys[K_w]:\n",
    "            control.throttle = 1\n",
    "            control.reverse = False\n",
    "        elif keys[K_s]:\n",
    "            control.throttle = 1\n",
    "            control.reverse = True\n",
    "        if keys[K_a]:\n",
    "            control.steer = max(-1., min(control.steer - 0.05, 0))\n",
    "        elif keys[K_d]:\n",
    "            control.steer = min(1., max(control.steer + 0.05, 0))\n",
    "        elif keys[K_c]:\n",
    "            if depth_image is not None:\n",
    "                depth_image.save_to_disk(\"depth_images/\"+str(json_)+\".jpg\", carla.ColorConverter.LogarithmicDepth)\n",
    "                json_ += 1\n",
    "        else:\n",
    "            control.steer = 0\n",
    "        control.hand_brake = keys[K_SPACE]\n",
    "\n",
    "        car.apply_control(control)\n",
    "\n",
    "        pygame.display.flip()\n",
    "        pygame.event.pump()"
   ]
  },
  {
   "cell_type": "code",
   "execution_count": 11,
   "metadata": {},
   "outputs": [
    {
     "ename": "error",
     "evalue": "video system not initialized",
     "output_type": "error",
     "traceback": [
      "\u001b[1;31m---------------------------------------------------------------------------\u001b[0m",
      "\u001b[1;31merror\u001b[0m                                     Traceback (most recent call last)",
      "\u001b[1;32m~\\AppData\\Local\\Temp\\ipykernel_6656\\217905245.py\u001b[0m in \u001b[0;36m<module>\u001b[1;34m\u001b[0m\n\u001b[0;32m      1\u001b[0m \u001b[1;32mif\u001b[0m \u001b[0m__name__\u001b[0m \u001b[1;33m==\u001b[0m \u001b[1;34m'__main__'\u001b[0m\u001b[1;33m:\u001b[0m\u001b[1;33m\u001b[0m\u001b[1;33m\u001b[0m\u001b[0m\n\u001b[1;32m----> 2\u001b[1;33m     \u001b[0mmain\u001b[0m\u001b[1;33m(\u001b[0m\u001b[1;33m)\u001b[0m\u001b[1;33m\u001b[0m\u001b[1;33m\u001b[0m\u001b[0m\n\u001b[0m",
      "\u001b[1;32m~\\AppData\\Local\\Temp\\ipykernel_6656\\985519864.py\u001b[0m in \u001b[0;36mmain\u001b[1;34m()\u001b[0m\n\u001b[0;32m     48\u001b[0m         \u001b[0mcar\u001b[0m\u001b[1;33m.\u001b[0m\u001b[0mapply_control\u001b[0m\u001b[1;33m(\u001b[0m\u001b[0mcontrol\u001b[0m\u001b[1;33m)\u001b[0m\u001b[1;33m\u001b[0m\u001b[1;33m\u001b[0m\u001b[0m\n\u001b[0;32m     49\u001b[0m \u001b[1;33m\u001b[0m\u001b[0m\n\u001b[1;32m---> 50\u001b[1;33m         \u001b[0mpygame\u001b[0m\u001b[1;33m.\u001b[0m\u001b[0mdisplay\u001b[0m\u001b[1;33m.\u001b[0m\u001b[0mflip\u001b[0m\u001b[1;33m(\u001b[0m\u001b[1;33m)\u001b[0m\u001b[1;33m\u001b[0m\u001b[1;33m\u001b[0m\u001b[0m\n\u001b[0m\u001b[0;32m     51\u001b[0m         \u001b[0mpygame\u001b[0m\u001b[1;33m.\u001b[0m\u001b[0mevent\u001b[0m\u001b[1;33m.\u001b[0m\u001b[0mpump\u001b[0m\u001b[1;33m(\u001b[0m\u001b[1;33m)\u001b[0m\u001b[1;33m\u001b[0m\u001b[1;33m\u001b[0m\u001b[0m\n",
      "\u001b[1;31merror\u001b[0m: video system not initialized"
     ]
    }
   ],
   "source": [
    "if __name__ == '__main__':\n",
    "    main()"
   ]
  },
  {
   "cell_type": "code",
   "execution_count": null,
   "metadata": {},
   "outputs": [],
   "source": []
  }
 ],
 "metadata": {
  "kernelspec": {
   "display_name": "carla0915",
   "language": "python",
   "name": "python3"
  },
  "language_info": {
   "codemirror_mode": {
    "name": "ipython",
    "version": 3
   },
   "file_extension": ".py",
   "mimetype": "text/x-python",
   "name": "python",
   "nbconvert_exporter": "python",
   "pygments_lexer": "ipython3",
   "version": "3.7.12"
  }
 },
 "nbformat": 4,
 "nbformat_minor": 2
}
